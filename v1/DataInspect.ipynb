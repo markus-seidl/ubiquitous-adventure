{
 "cells": [
  {
   "cell_type": "code",
   "execution_count": 1,
   "outputs": [
    {
     "name": "stderr",
     "output_type": "stream",
     "text": [
      "Using MXNet backend\n"
     ]
    }
   ],
   "source": [
    "import os; os.environ['KERAS_BACKEND'] = 'mxnet'\n",
    "import mxnet as mx\n",
    "import numpy as np\n",
    "import keras as k"
   ],
   "metadata": {
    "collapsed": false,
    "pycharm": {
     "name": "#%%\n"
    }
   }
  },
  {
   "cell_type": "code",
   "execution_count": 2,
   "metadata": {
    "collapsed": true
   },
   "outputs": [],
   "source": [
    "SHAPE=(224, 224, 3)\n",
    "CLASSES=4\n",
    "\n",
    "import helpers.labelinputgenerator\n",
    "data = helpers.labelinputgenerator.LabelInputGenerator(\"train\", SHAPE, CLASSES, batch_size=1)"
   ]
  },
  {
   "cell_type": "code",
   "execution_count": 3,
   "outputs": [],
   "source": [
    "count = dict()\n",
    "for _, label in data:\n",
    "    label = label[0] # because it's delivered in patches\n",
    "    bin = label[0] + 2*label[1] + 4*label[2] + 8*label[3]\n",
    "    if bin not in count:\n",
    "        count[bin] = 0\n",
    "    count[bin] += 1\n"
   ],
   "metadata": {
    "collapsed": false,
    "pycharm": {
     "name": "#%%\n"
    }
   }
  },
  {
   "cell_type": "code",
   "execution_count": 6,
   "outputs": [],
   "source": [
    "x = np.zeros(16)\n",
    "y = np.zeros(16)\n",
    "label = list()\n",
    "\n",
    "for i in range(16):\n",
    "    x[i] = i\n",
    "    y[i] = 0\n",
    "    if i in count:\n",
    "        y[i] = count[i]\n",
    "    label.append('{0:04b}'.format(i))"
   ],
   "metadata": {
    "collapsed": false,
    "pycharm": {
     "name": "#%%\n"
    }
   }
  },
  {
   "cell_type": "code",
   "execution_count": 9,
   "outputs": [
    {
     "data": {
      "text/plain": "<Figure size 432x288 with 1 Axes>",
      "image/png": "[encoded data removed]"
     },
     "metadata": {
      "needs_background": "light"
     },
     "output_type": "display_data"
    }
   ],
   "source": [
    "import matplotlib.pyplot as plt\n",
    "%matplotlib inline\n",
    "# plt.style.use('ggplot')\n",
    "\n",
    "plt.bar(x, y)\n",
    "# plt.xlabel(\"Energy Source\")\n",
    "# plt.ylabel(\"Energy Output (GJ)\")\n",
    "# plt.title(\"Energy output from various fuel sources\")\n",
    "\n",
    "plt.xticks(x, label, rotation='vertical')\n",
    "\n",
    "plt.show()"
   ],
   "metadata": {
    "collapsed": false,
    "pycharm": {
     "name": "#%%\n"
    }
   }
  },
  {
   "cell_type": "code",
   "execution_count": null,
   "outputs": [],
   "source": [
    "\n"
   ],
   "metadata": {
    "collapsed": false,
    "pycharm": {
     "name": "#%%\n"
    }
   }
  }
 ],
 "metadata": {
  "kernelspec": {
   "display_name": "Python 3",
   "language": "python",
   "name": "python3"
  },
  "language_info": {
   "codemirror_mode": {
    "name": "ipython",
    "version": 2
   },
   "file_extension": ".py",
   "mimetype": "text/x-python",
   "name": "python",
   "nbconvert_exporter": "python",
   "pygments_lexer": "ipython2",
   "version": "2.7.6"
  }
 },
 "nbformat": 4,
 "nbformat_minor": 0
}